{
 "cells": [
  {
   "cell_type": "markdown",
   "id": "a92a39ad",
   "metadata": {},
   "source": [
    "# 🧩 Guía Práctica de Feature Engineering para Ciencia de Datos"
   ]
  },
  {
   "cell_type": "markdown",
   "id": "855c69c0",
   "metadata": {},
   "source": [
    "## 1. 🧠 Feature Selection (Selección de Variables)"
   ]
  },
  {
   "cell_type": "markdown",
   "id": "1cd794c2",
   "metadata": {},
   "source": [
    "| Técnica                     | Descripción                                          | Librerías |\n",
    "|----------------------------|------------------------------------------------------|-----------|\n",
    "| Univariate Selection       | Estadísticas como chi², ANOVA, mutual_info          | sklearn.feature_selection |\n",
    "| Model-Based Selection      | Usa modelos (árboles, Lasso) para elegir features   | SelectFromModel |\n",
    "| Recursive Feature Elimination (RFE) | Elimina recursivamente según importancia | sklearn.feature_selection |\n",
    "| BorutaPy                   | Basado en Random Forest, robusto y automatizado     | boruta |\n",
    "| Variance Threshold         | Elimina features con varianza baja                  | sklearn |"
   ]
  },
  {
   "cell_type": "markdown",
   "id": "0557bb97",
   "metadata": {},
   "source": [
    "## 2. 🔄 Feature Transformation"
   ]
  },
  {
   "cell_type": "markdown",
   "id": "9b2072d8",
   "metadata": {},
   "source": [
    "| Transformación         | Descripción                          | Librerías |\n",
    "|------------------------|--------------------------------------|-----------|\n",
    "| Scaling                | StandardScaler, MinMaxScaler         | sklearn.preprocessing |\n",
    "| Log, sqrt, Box-Cox     | Suaviza distribuciones sesgadas      | numpy, scipy.stats |\n",
    "| QuantileTransformer    | Transforma a distribuciones uniformes o normales | sklearn |\n",
    "| PolynomialFeatures     | Combinaciones de variables no lineales | sklearn |\n",
    "| Binning                | Convertir variables numéricas a categorías (edad, salario) | pandas.cut, pd.qcut |\n",
    "| OneHot Encoding        | Convierte categorías en columnas binarias | pandas.get_dummies, OneHotEncoder |\n",
    "| Label Encoding         | Convierte categorías a números       | sklearn.LabelEncoder |\n",
    "| Ordinal Encoding       | Codificación con orden               | category_encoders.OrdinalEncoder |"
   ]
  },
  {
   "cell_type": "markdown",
   "id": "9e17cb49",
   "metadata": {},
   "source": [
    "### 🎯 Ejemplos de Binning"
   ]
  },
  {
   "cell_type": "code",
   "execution_count": null,
   "id": "eef12797",
   "metadata": {},
   "outputs": [],
   "source": [
    "\n",
    "import pandas as pd"
   ]
  },
  {
   "cell_type": "markdown",
   "id": "82ad2371",
   "metadata": {},
   "source": [
    "# Binning por rangos manuales\n",
    "df['rango_edad'] = pd.cut(df['edad'], bins=[0, 18, 35, 60, 100], labels=['Niño', 'Joven', 'Adulto', 'Mayor'])"
   ]
  },
  {
   "cell_type": "markdown",
   "id": "bdf6ca32",
   "metadata": {},
   "source": [
    "# Binning por percentiles\n",
    "df['rango_salario'] = pd.qcut(df['salario'], q=4, labels=['Bajo', 'Medio-Bajo', 'Medio-Alto', 'Alto'])\n",
    "```"
   ]
  },
  {
   "cell_type": "markdown",
   "id": "fbc81c46",
   "metadata": {},
   "source": [
    "### 🎯 Ejemplos de Codificación"
   ]
  },
  {
   "cell_type": "code",
   "execution_count": null,
   "id": "5c50d9e7",
   "metadata": {},
   "outputs": [],
   "source": [
    "\n",
    "# OneHot Encoding\n",
    "df_encoded = pd.get_dummies(df, columns=['genero', 'ciudad'])"
   ]
  },
  {
   "cell_type": "markdown",
   "id": "52aed464",
   "metadata": {},
   "source": [
    "# Label Encoding\n",
    "from sklearn.preprocessing import LabelEncoder\n",
    "le = LabelEncoder()\n",
    "df['genero_le'] = le.fit_transform(df['genero'])\n",
    "```"
   ]
  },
  {
   "cell_type": "markdown",
   "id": "98c7dca9",
   "metadata": {},
   "source": [
    "## 3. 🧼 Imputación de Valores Faltantes"
   ]
  },
  {
   "cell_type": "markdown",
   "id": "4e010f7b",
   "metadata": {},
   "source": [
    "| Tipo de Variable | Técnicas comunes                          | Librerías |\n",
    "|------------------|-------------------------------------------|-----------|\n",
    "| Numéricas         | Media, mediana, KNN, regresión, ffill    | sklearn.impute, fancyimpute |\n",
    "| Categóricas       | Moda, constante “Missing”                | SimpleImputer, fillna() |"
   ]
  },
  {
   "cell_type": "markdown",
   "id": "666c741f",
   "metadata": {},
   "source": [
    "## 4. 🔍 Detección y Control de Outliers"
   ]
  },
  {
   "cell_type": "markdown",
   "id": "76c75adb",
   "metadata": {},
   "source": [
    "| Técnica                  | Descripción                             | Librerías |\n",
    "|-------------------------|-----------------------------------------|-----------|\n",
    "| Z-score / IQR           | Detecta extremos estadísticos           | scipy, numpy |\n",
    "| Winsorization           | Recorta valores extremos                | scipy.stats.mstats |\n",
    "| Capping by Percentile   | Corta valores por p1-p99, p5-p95        | numpy.percentile, np.clip |\n",
    "| Isolation Forest        | Detecta outliers con árboles            | sklearn.ensemble |\n",
    "| Local Outlier Factor    | Basado en densidad                      | sklearn.neighbors |"
   ]
  },
  {
   "cell_type": "code",
   "execution_count": null,
   "id": "8eaf37d2",
   "metadata": {},
   "outputs": [],
   "source": [
    "\n",
    "# Capping por percentil\n",
    "import numpy as np\n",
    "q01, q99 = np.percentile(df['columna'], [1, 99])\n",
    "df['columna'] = np.clip(df['columna'], q01, q99)\n"
   ]
  },
  {
   "cell_type": "markdown",
   "id": "868d390c",
   "metadata": {},
   "source": [
    "## 5. 🧾 Casting de Tipos"
   ]
  },
  {
   "cell_type": "code",
   "execution_count": null,
   "id": "5d80a81f",
   "metadata": {},
   "outputs": [],
   "source": [
    "\n",
    "df['fecha'] = pd.to_datetime(df['fecha'])\n",
    "df['categoria'] = df['categoria'].astype('category')\n",
    "df['valor'] = pd.to_numeric(df['valor'], errors='coerce')\n"
   ]
  },
  {
   "cell_type": "markdown",
   "id": "95c57225",
   "metadata": {},
   "source": [
    "## ✅ Buenas Prácticas"
   ]
  },
  {
   "cell_type": "markdown",
   "id": "50c72cc1",
   "metadata": {},
   "source": [
    "- Documentar cada transformación\n",
    "- Usar pipelines (sklearn.Pipeline)\n",
    "- No usar datos del test para imputar o escalar\n",
    "- Evaluar cada paso con validación cruzada"
   ]
  },
  {
   "cell_type": "markdown",
   "id": "3376c143",
   "metadata": {},
   "source": [
    "## 📚 Librerías Recomendadas"
   ]
  },
  {
   "cell_type": "markdown",
   "id": "feb5d3fb",
   "metadata": {},
   "source": [
    "- pandas, numpy\n",
    "- scikit-learn\n",
    "- imbalanced-learn\n",
    "- category_encoders\n",
    "- fancyimpute\n",
    "- scipy.stats\n",
    "- shap, eli5\n"
   ]
  }
 ],
 "metadata": {
  "kernelspec": {
   "display_name": ".venv",
   "language": "python",
   "name": "python3"
  },
  "language_info": {
   "name": "python",
   "version": "3.11.3"
  }
 },
 "nbformat": 4,
 "nbformat_minor": 5
}
