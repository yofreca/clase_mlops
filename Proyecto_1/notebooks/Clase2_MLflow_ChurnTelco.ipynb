{
 "cells": [
  {
   "cell_type": "markdown",
   "id": "0a94d3e4",
   "metadata": {},
   "source": [
    "# Clase 2: Seguimiento y comparación de modelos con MLflow\n",
    "\n",
    "Dataset: Churn de clientes - Telco"
   ]
  },
  {
   "cell_type": "code",
   "execution_count": 1,
   "id": "8dd6c7c7",
   "metadata": {},
   "outputs": [],
   "source": [
    "import pandas as pd\n",
    "from sklearn.model_selection import train_test_split\n",
    "\n",
    "url = \"C:/MLOPS/clase_mlops/Proyecto_1/data/WA_Fn-UseC_-Telco-Customer-Churn.csv\"\n",
    "df = pd.read_csv(url)\n",
    "df.drop(['customerID'], axis=1, inplace=True)\n",
    "df['TotalCharges'] = pd.to_numeric(df['TotalCharges'], errors='coerce')\n",
    "df.dropna(inplace=True)\n",
    "df = pd.get_dummies(df, drop_first=True)\n",
    "\n",
    "X = df.drop('Churn_Yes', axis=1)\n",
    "y = df['Churn_Yes']\n",
    "X_train, X_test, y_train, y_test = train_test_split(X, y, test_size=0.2, random_state=42)"
   ]
  },
  {
   "cell_type": "code",
   "execution_count": 2,
   "id": "c3e4e3fc",
   "metadata": {},
   "outputs": [
    {
     "name": "stderr",
     "output_type": "stream",
     "text": [
      "2025/04/10 19:16:51 INFO mlflow.tracking.fluent: Experiment with name 'Churn_Telco_Comparacion' does not exist. Creating a new experiment.\n"
     ]
    },
    {
     "data": {
      "text/plain": [
       "<Experiment: artifact_location='file:///c:/MLOPS/clase_mlops/Proyecto_1/notebooks/mlruns/547667526282479684', creation_time=1744330611488, experiment_id='547667526282479684', last_update_time=1744330611488, lifecycle_stage='active', name='Churn_Telco_Comparacion', tags={}>"
      ]
     },
     "execution_count": 2,
     "metadata": {},
     "output_type": "execute_result"
    }
   ],
   "source": [
    "import mlflow\n",
    "import mlflow.sklearn\n",
    "from sklearn.linear_model import LogisticRegression\n",
    "from sklearn.ensemble import RandomForestClassifier\n",
    "from sklearn.metrics import accuracy_score, f1_score, recall_score, roc_auc_score\n",
    "\n",
    "mlflow.set_experiment(\"Churn_Telco_Comparacion\")"
   ]
  },
  {
   "cell_type": "markdown",
   "id": "91cde186",
   "metadata": {},
   "source": [
    "### Entrenamiento: Logistic Regression"
   ]
  },
  {
   "cell_type": "code",
   "execution_count": 3,
   "id": "d309ae2c",
   "metadata": {},
   "outputs": [
    {
     "name": "stderr",
     "output_type": "stream",
     "text": [
      "c:\\MLOPS\\clase_mlops\\.venv\\Lib\\site-packages\\sklearn\\linear_model\\_logistic.py:465: ConvergenceWarning: lbfgs failed to converge (status=1):\n",
      "STOP: TOTAL NO. OF ITERATIONS REACHED LIMIT.\n",
      "\n",
      "Increase the number of iterations (max_iter) or scale the data as shown in:\n",
      "    https://scikit-learn.org/stable/modules/preprocessing.html\n",
      "Please also refer to the documentation for alternative solver options:\n",
      "    https://scikit-learn.org/stable/modules/linear_model.html#logistic-regression\n",
      "  n_iter_i = _check_optimize_result(\n",
      "2025/04/10 19:21:06 WARNING mlflow.models.model: Model logged without a signature and input example. Please set `input_example` parameter when logging the model to auto infer the model signature.\n"
     ]
    }
   ],
   "source": [
    "with mlflow.start_run(run_name=\"Logistic Regression\"):\n",
    "    model = LogisticRegression(max_iter=1000)\n",
    "    model.fit(X_train, y_train)\n",
    "    y_pred = model.predict(X_test)\n",
    "    y_proba = model.predict_proba(X_test)[:,1]\n",
    "\n",
    "    mlflow.log_param(\"modelo\", \"logistic\")\n",
    "    mlflow.log_metric(\"accuracy\", accuracy_score(y_test, y_pred))\n",
    "    mlflow.log_metric(\"f1_score\", f1_score(y_test, y_pred))\n",
    "    mlflow.log_metric(\"recall\", recall_score(y_test, y_pred))\n",
    "    mlflow.log_metric(\"auc\", roc_auc_score(y_test, y_proba))\n",
    "    \n",
    "    mlflow.sklearn.log_model(model, \"modelo_logistico\")"
   ]
  },
  {
   "cell_type": "markdown",
   "id": "f16a4ab1",
   "metadata": {},
   "source": [
    "### Entrenamiento: Random Forest"
   ]
  },
  {
   "cell_type": "code",
   "execution_count": 4,
   "id": "a34ae18e",
   "metadata": {},
   "outputs": [
    {
     "name": "stderr",
     "output_type": "stream",
     "text": [
      "2025/04/10 19:21:26 WARNING mlflow.models.model: Model logged without a signature and input example. Please set `input_example` parameter when logging the model to auto infer the model signature.\n"
     ]
    }
   ],
   "source": [
    "with mlflow.start_run(run_name=\"Random Forest\"):\n",
    "    model = RandomForestClassifier(n_estimators=100, max_depth=6, random_state=42)\n",
    "    model.fit(X_train, y_train)\n",
    "    y_pred = model.predict(X_test)\n",
    "    y_proba = model.predict_proba(X_test)[:,1]\n",
    "\n",
    "    mlflow.log_param(\"modelo\", \"random_forest\")\n",
    "    mlflow.log_param(\"n_estimators\", 100)\n",
    "    mlflow.log_param(\"max_depth\", 6)\n",
    "    mlflow.log_metric(\"accuracy\", accuracy_score(y_test, y_pred))\n",
    "    mlflow.log_metric(\"f1_score\", f1_score(y_test, y_pred))\n",
    "    mlflow.log_metric(\"recall\", recall_score(y_test, y_pred))\n",
    "    mlflow.log_metric(\"auc\", roc_auc_score(y_test, y_proba))\n",
    "    \n",
    "    mlflow.sklearn.log_model(model, \"modelo_rf\")"
   ]
  },
  {
   "cell_type": "markdown",
   "id": "8a1ce285",
   "metadata": {},
   "source": [
    "Support Vector Machine (SVM) "
   ]
  },
  {
   "cell_type": "code",
   "execution_count": null,
   "id": "462e528a",
   "metadata": {},
   "outputs": [],
   "source": [
    "from sklearn.svm import SVC\n",
    "\n",
    "with mlflow.start_run(run_name=\"SVM\"):\n",
    "    # Utilizando Support Vector Machine\n",
    "    model = SVC(kernel='linear', C=1, probability=True, random_state=42)  # Ajuste del parámetro 'kernel' y 'C'\n",
    "    model.fit(X_train, y_train)\n",
    "    \n",
    "    # Predicciones\n",
    "    y_pred = model.predict(X_test)\n",
    "    y_proba = model.predict_proba(X_test)[:,1]\n",
    "\n",
    "    # Log de los parámetros y métricas en MLflow\n",
    "    mlflow.log_param(\"modelo\", \"svm\")\n",
    "    mlflow.log_param(\"kernel\", \"linear\")\n",
    "    mlflow.log_param(\"C\", 1)\n",
    "    \n",
    "    mlflow.log_metric(\"accuracy\", accuracy_score(y_test, y_pred))\n",
    "    mlflow.log_metric(\"f1_score\", f1_score(y_test, y_pred))\n",
    "    mlflow.log_metric(\"recall\", recall_score(y_test, y_pred))\n",
    "    mlflow.log_metric(\"auc\", roc_auc_score(y_test, y_proba))\n",
    "    \n",
    "    # Guardar el modelo SVM en MLflow\n",
    "    mlflow.sklearn.log_model(model, \"modelo_svm\")\n"
   ]
  },
  {
   "cell_type": "markdown",
   "id": "78d184fd",
   "metadata": {},
   "source": [
    "### Visualizar Experimentos en la UI de MLflow"
   ]
  },
  {
   "cell_type": "code",
   "execution_count": null,
   "id": "6aae128f",
   "metadata": {},
   "outputs": [],
   "source": [
    "# Ejecuta en terminal (no dentro del notebook):\n",
    "# mlflow ui\n",
    "# Luego abre en el navegador: http://127.0.0.1:5000"
   ]
  }
 ],
 "metadata": {
  "kernelspec": {
   "display_name": ".venv",
   "language": "python",
   "name": "python3"
  },
  "language_info": {
   "codemirror_mode": {
    "name": "ipython",
    "version": 3
   },
   "file_extension": ".py",
   "mimetype": "text/x-python",
   "name": "python",
   "nbconvert_exporter": "python",
   "pygments_lexer": "ipython3",
   "version": "3.11.3"
  }
 },
 "nbformat": 4,
 "nbformat_minor": 5
}
